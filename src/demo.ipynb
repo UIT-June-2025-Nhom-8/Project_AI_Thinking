{
 "cells": [
  {
   "cell_type": "markdown",
   "id": "f5f821f9",
   "metadata": {
    "id": "view-in-github",
    "papermill": {
     "duration": 0.002193,
     "end_time": "2025-08-05T12:40:36.823683",
     "exception": false,
     "start_time": "2025-08-05T12:40:36.821490",
     "status": "completed"
    },
    "tags": []
   },
   "source": [
    "<a href=\"https://colab.research.google.com/github/UIT-June-2025-Nhom-8/Project_AI_Thinking/blob/feature%2Fduc-test/src/demo.ipynb\" target=\"_parent\"><img src=\"https://colab.research.google.com/assets/colab-badge.svg\" alt=\"Open In Colab\"/></a>"
   ]
  },
  {
   "cell_type": "markdown",
   "id": "d136cb5d",
   "metadata": {
    "id": "62ee0b66",
    "papermill": {
     "duration": 0.001301,
     "end_time": "2025-08-05T12:40:36.826877",
     "exception": false,
     "start_time": "2025-08-05T12:40:36.825576",
     "status": "completed"
    },
    "tags": []
   },
   "source": [
    "# DEMO Test from Duc Le"
   ]
  },
  {
   "cell_type": "code",
   "execution_count": 1,
   "id": "60daa9fe",
   "metadata": {
    "execution": {
     "iopub.execute_input": "2025-08-05T12:40:36.831631Z",
     "iopub.status.busy": "2025-08-05T12:40:36.831195Z",
     "iopub.status.idle": "2025-08-05T12:40:36.841595Z",
     "shell.execute_reply": "2025-08-05T12:40:36.840423Z"
    },
    "id": "cea1c564",
    "outputId": "88830694-5d75-4012-d9be-a393d5f49005",
    "papermill": {
     "duration": 0.014406,
     "end_time": "2025-08-05T12:40:36.842984",
     "exception": false,
     "start_time": "2025-08-05T12:40:36.828578",
     "status": "completed"
    },
    "tags": []
   },
   "outputs": [
    {
     "name": "stdout",
     "output_type": "stream",
     "text": [
      "Hello World\n"
     ]
    }
   ],
   "source": [
    "print(f\"Hello World\")"
   ]
  },
  {
   "cell_type": "code",
   "execution_count": 2,
   "id": "0deb9914",
   "metadata": {
    "execution": {
     "iopub.execute_input": "2025-08-05T12:40:36.847510Z",
     "iopub.status.busy": "2025-08-05T12:40:36.847217Z",
     "iopub.status.idle": "2025-08-05T12:40:36.852112Z",
     "shell.execute_reply": "2025-08-05T12:40:36.851390Z"
    },
    "papermill": {
     "duration": 0.008873,
     "end_time": "2025-08-05T12:40:36.853672",
     "exception": false,
     "start_time": "2025-08-05T12:40:36.844799",
     "status": "completed"
    },
    "tags": []
   },
   "outputs": [
    {
     "name": "stdout",
     "output_type": "stream",
     "text": [
      "this code from kaggle\n"
     ]
    }
   ],
   "source": [
    "print(\"this code from kaggle\")"
   ]
  }
 ],
 "metadata": {
  "colab": {
   "include_colab_link": true,
   "provenance": []
  },
  "kaggle": {
   "accelerator": "none",
   "dataSources": [],
   "dockerImageVersionId": 31089,
   "isGpuEnabled": false,
   "isInternetEnabled": false,
   "language": "python",
   "sourceType": "notebook"
  },
  "kernelspec": {
   "display_name": "Python 3",
   "language": "python",
   "name": "python3"
  },
  "language_info": {
   "codemirror_mode": {
    "name": "ipython",
    "version": 3
   },
   "file_extension": ".py",
   "mimetype": "text/x-python",
   "name": "python",
   "nbconvert_exporter": "python",
   "pygments_lexer": "ipython3",
   "version": "3.11.13"
  },
  "papermill": {
   "default_parameters": {},
   "duration": 5.576882,
   "end_time": "2025-08-05T12:40:37.274115",
   "environment_variables": {},
   "exception": null,
   "input_path": "__notebook__.ipynb",
   "output_path": "__notebook__.ipynb",
   "parameters": {},
   "start_time": "2025-08-05T12:40:31.697233",
   "version": "2.6.0"
  }
 },
 "nbformat": 4,
 "nbformat_minor": 5
}
